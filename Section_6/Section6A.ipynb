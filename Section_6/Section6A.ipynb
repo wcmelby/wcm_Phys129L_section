{
 "cells": [
  {
   "cell_type": "markdown",
   "metadata": {},
   "source": [
    "**Section 6B** <br>\n",
    "2/11/25"
   ]
  },
  {
   "cell_type": "code",
   "execution_count": 2,
   "metadata": {},
   "outputs": [],
   "source": [
    "import numpy as np"
   ]
  },
  {
   "cell_type": "markdown",
   "metadata": {},
   "source": [
    "# Task 1: Poisson"
   ]
  },
  {
   "cell_type": "markdown",
   "metadata": {},
   "source": [
    "n = number of stars per unit volume evenely distributed around us <br>\n",
    "N = $n*\\frac{4}{3}\\pi R^3$, number of stars within radius R"
   ]
  },
  {
   "cell_type": "markdown",
   "metadata": {},
   "source": [
    "To find the probability for the nearest star being at a distance R, multiply the probability that there is no star within R and the probability that there is a star at R (between R+dR). \n",
    "$$P(R) = 4\\pi R^2 n e^{-\\frac{4}{3}\\pi n R^3}$$"
   ]
  },
  {
   "cell_type": "markdown",
   "metadata": {},
   "source": [
    "# Task 2: Lorentzian"
   ]
  },
  {
   "cell_type": "markdown",
   "metadata": {},
   "source": [
    "Equation of motion for damped, driven harmonic oscillator:\n",
    "$$\\frac{\\mathrm{d}^2 x}{\\mathrm{d}t^2} + \\gamma \\frac{\\mathrm{d} x}{\\mathrm{d}t} + \\omega_0^2 x = F e^{i\\omega_f t}$$"
   ]
  },
  {
   "cell_type": "markdown",
   "metadata": {},
   "source": [
    "$$\\tilde{x}(\\omega) = \\frac{F \\delta(\\omega - \\omega_f)}{\\omega_0^2 - \\omega^2 + i \\gamma \\omega}$$"
   ]
  },
  {
   "cell_type": "markdown",
   "metadata": {},
   "source": [
    "Energy absorbed per cycle: \n",
    "$$E = \\frac{1}{T} \\int_{0}^{T} F \\dot{x} dt$$"
   ]
  },
  {
   "cell_type": "markdown",
   "metadata": {},
   "source": [
    "Energy absorption follows a Lorentzian: \n",
    "$$E = F \\pi \\frac{\\gamma \\omega_f}{(\\omega_0^2 - \\omega_f^2)^2 + \\gamma^2\\omega_f^2}$$"
   ]
  },
  {
   "cell_type": "markdown",
   "metadata": {},
   "source": [
    "# Task 3: Revisit Heisenberg XXX Hamiltonian on a Ring: Markov Chain"
   ]
  },
  {
   "cell_type": "markdown",
   "metadata": {},
   "source": [
    "**Question 1: Markov chain in site basis**"
   ]
  },
  {
   "cell_type": "markdown",
   "metadata": {},
   "source": [
    "Transition matrix P is an 8x8 matrix where each entry $P_{ij}$ represents the probability of transitioning from state i to state j. "
   ]
  },
  {
   "cell_type": "markdown",
   "metadata": {},
   "source": [
    "The N=3 states are defined as: <br>\n",
    "1. ∣↑↑↑⟩\n",
    "2. ∣↑↑↓⟩\n",
    "3. ∣↑↓↑⟩\n",
    "4. ∣↑↓↓⟩\n",
    "5. ∣↓↑↑⟩\n",
    "6. ∣↓↑↓⟩\n",
    "7. ∣↓↓↑⟩\n",
    "8. ∣↓↓↓⟩"
   ]
  },
  {
   "cell_type": "code",
   "execution_count": 3,
   "metadata": {},
   "outputs": [],
   "source": [
    "# Define the transition probability matrix\n",
    "P = np.array([\n",
    "    [1, 1/3, 1/3, 0, 1/3, 0, 0, 0],\n",
    "    [1/3, 1, 0, 1/3, 0, 1/3, 0, 0],\n",
    "    [1/3, 0, 1, 1/3, 0, 0, 1/3, 0],\n",
    "    [0, 1/3, 1/3, 1, 0, 0, 0, 1/3],\n",
    "    [1/3, 0, 0, 0, 1, 1/3, 1/3, 0],\n",
    "    [0, 1/3, 0, 0, 1/3, 1, 0, 1/3],\n",
    "    [0, 0, 1/3, 0, 1/3, 0, 1, 1/3],\n",
    "    [0, 0, 0, 1/3, 0, 1/3, 1/3, 1]\n",
    "])"
   ]
  },
  {
   "cell_type": "markdown",
   "metadata": {},
   "source": [
    "**Question 2**"
   ]
  },
  {
   "cell_type": "markdown",
   "metadata": {},
   "source": [
    "A stationary distribution $\\pi$ satisfies $\\pi P = \\pi$, meaning a transition will keep it in the same steady state. The normalization condition is  \n",
    "$$\\sum_{i=1}^{8}\\pi_i = 1$$"
   ]
  },
  {
   "cell_type": "code",
   "execution_count": 4,
   "metadata": {},
   "outputs": [
    {
     "name": "stdout",
     "output_type": "stream",
     "text": [
      "Normalized Transition Probability Matrix P:\n",
      "[[0.5        0.16666667 0.16666667 0.         0.16666667 0.\n",
      "  0.         0.        ]\n",
      " [0.16666667 0.5        0.         0.16666667 0.         0.16666667\n",
      "  0.         0.        ]\n",
      " [0.16666667 0.         0.5        0.16666667 0.         0.\n",
      "  0.16666667 0.        ]\n",
      " [0.         0.16666667 0.16666667 0.5        0.         0.\n",
      "  0.         0.16666667]\n",
      " [0.16666667 0.         0.         0.         0.5        0.16666667\n",
      "  0.16666667 0.        ]\n",
      " [0.         0.16666667 0.         0.         0.16666667 0.5\n",
      "  0.         0.16666667]\n",
      " [0.         0.         0.16666667 0.         0.16666667 0.\n",
      "  0.5        0.16666667]\n",
      " [0.         0.         0.         0.16666667 0.         0.16666667\n",
      "  0.16666667 0.5       ]]\n",
      "Stationary Distribution π:\n",
      "[0.125 0.125 0.125 0.125 0.125 0.125 0.125 0.125]\n"
     ]
    }
   ],
   "source": [
    "# Normalize each row to ensure they sum to 1\n",
    "P = P / P.sum(axis=1, keepdims=True)\n",
    "\n",
    "# Solve for the stationary distribution\n",
    "n = P.shape[0]\n",
    "A = P.T - np.eye(n)\n",
    "A[-1, :] = 1  # Replace last row to enforce sum(π) = 1\n",
    "b = np.zeros(n)\n",
    "b[-1] = 1\n",
    "\n",
    "# Solve the linear system πP = π\n",
    "pi = np.linalg.lstsq(A, b, rcond=None)[0]\n",
    "\n",
    "# Display the normalized transition probability matrix\n",
    "print(\"Normalized Transition Probability Matrix P:\")\n",
    "print(P)\n",
    "\n",
    "# Display the stationary distribution\n",
    "print(\"Stationary Distribution π:\")\n",
    "print(pi)"
   ]
  },
  {
   "cell_type": "markdown",
   "metadata": {},
   "source": [
    "**Question 3**"
   ]
  },
  {
   "cell_type": "code",
   "execution_count": null,
   "metadata": {},
   "outputs": [
    {
     "name": "stdout",
     "output_type": "stream",
     "text": [
      "Normalized Transition Probability Matrix P:\n",
      "[[0.5        0.16666667 0.16666667 0.         0.16666667 0.\n",
      "  0.         0.        ]\n",
      " [0.16666667 0.5        0.         0.16666667 0.         0.16666667\n",
      "  0.         0.        ]\n",
      " [0.16666667 0.         0.5        0.16666667 0.         0.\n",
      "  0.16666667 0.        ]\n",
      " [0.         0.16666667 0.16666667 0.5        0.         0.\n",
      "  0.         0.16666667]\n",
      " [0.16666667 0.         0.         0.         0.5        0.16666667\n",
      "  0.16666667 0.        ]\n",
      " [0.         0.16666667 0.         0.         0.16666667 0.5\n",
      "  0.         0.16666667]\n",
      " [0.         0.         0.16666667 0.         0.16666667 0.\n",
      "  0.5        0.16666667]\n",
      " [0.         0.         0.         0.16666667 0.         0.16666667\n",
      "  0.16666667 0.5       ]]\n",
      "Stationary Distribution π (Power Iteration):\n",
      "[0.12500002 0.12500001 0.12500001 0.12499999 0.12500001 0.12499999\n",
      " 0.12499999 0.12499998]\n"
     ]
    }
   ],
   "source": [
    "# First case initial guess\n",
    "\n",
    "# Normalize each row to ensure they sum to 1\n",
    "P = P / P.sum(axis=1, keepdims=True)\n",
    "\n",
    "# Power iteration to find the stationary distribution\n",
    "pi = np.zeros(8)\n",
    "pi[0] = 1  # Initial guess: Pr(|↑↑↑⟩) = 1\n",
    "\n",
    "epsilon = 1e-8  # Convergence threshold\n",
    "max_iters = 1000  # Maximum iterations\n",
    "for _ in range(max_iters):\n",
    "    pi_next = pi @ P\n",
    "    if np.linalg.norm(pi_next - pi) < epsilon:\n",
    "        break\n",
    "    pi = pi_next\n",
    "\n",
    "# Display the normalized transition probability matrix\n",
    "print(\"Normalized Transition Probability Matrix P:\")\n",
    "print(P)\n",
    "\n",
    "# Display the stationary distribution\n",
    "print(\"Stationary Distribution π (Power Iteration):\")\n",
    "print(pi)"
   ]
  },
  {
   "cell_type": "code",
   "execution_count": 6,
   "metadata": {},
   "outputs": [
    {
     "name": "stdout",
     "output_type": "stream",
     "text": [
      "Stationary Distribution π (Power Iteration):\n",
      "[0.12500001 0.12500001 0.12499999 0.12499999 0.12500001 0.12500001\n",
      " 0.12499999 0.12499999]\n"
     ]
    }
   ],
   "source": [
    "# Second case initial guess\n",
    "\n",
    "# Power iteration to find the stationary distribution\n",
    "pi = np.zeros(8)\n",
    "pi[0] = 1/2  # Initial guess: Pr(|↑↑↑⟩) = 1/2\n",
    "pi[5] = 1/2\n",
    "\n",
    "epsilon = 1e-8  # Convergence threshold\n",
    "max_iters = 1000  # Maximum iterations\n",
    "for _ in range(max_iters):\n",
    "    pi_next = pi @ P\n",
    "    if np.linalg.norm(pi_next - pi) < epsilon:\n",
    "        break\n",
    "    pi = pi_next\n",
    "\n",
    "# Display the stationary distribution\n",
    "print(\"Stationary Distribution π (Power Iteration):\")\n",
    "print(pi)"
   ]
  },
  {
   "cell_type": "markdown",
   "metadata": {},
   "source": [
    "**Question 4: Markov chain in magnon basis**"
   ]
  },
  {
   "cell_type": "markdown",
   "metadata": {},
   "source": [
    "**Question 5**"
   ]
  },
  {
   "cell_type": "markdown",
   "metadata": {},
   "source": [
    "**Question 6**"
   ]
  },
  {
   "cell_type": "markdown",
   "metadata": {},
   "source": [
    "**Question 7: Master equation evolution**"
   ]
  },
  {
   "cell_type": "markdown",
   "metadata": {},
   "source": []
  }
 ],
 "metadata": {
  "kernelspec": {
   "display_name": "Python 3",
   "language": "python",
   "name": "python3"
  },
  "language_info": {
   "codemirror_mode": {
    "name": "ipython",
    "version": 3
   },
   "file_extension": ".py",
   "mimetype": "text/x-python",
   "name": "python",
   "nbconvert_exporter": "python",
   "pygments_lexer": "ipython3",
   "version": "3.8.10"
  }
 },
 "nbformat": 4,
 "nbformat_minor": 2
}
