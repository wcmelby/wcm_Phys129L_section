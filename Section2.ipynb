{
 "cells": [
  {
   "cell_type": "markdown",
   "metadata": {},
   "source": [
    "129L Section 2 <br>\n",
    "1/14/25 <br>\n",
    "William Melby"
   ]
  },
  {
   "cell_type": "code",
   "execution_count": 10,
   "metadata": {},
   "outputs": [],
   "source": [
    "import numpy as np\n",
    "import matplotlib.pyplot as plt\n",
    "import pandas as pd"
   ]
  },
  {
   "cell_type": "markdown",
   "metadata": {},
   "source": [
    "**Task 1**: Convex hull in 2D"
   ]
  },
  {
   "cell_type": "markdown",
   "metadata": {},
   "source": [
    "Part 1: Build Algorithms"
   ]
  },
  {
   "cell_type": "code",
   "execution_count": 2,
   "metadata": {},
   "outputs": [
    {
     "data": {
      "image/png": "[encoded data removed]",
      "text/plain": [
       "<Figure size 640x480 with 1 Axes>"
      ]
     },
     "metadata": {},
     "output_type": "display_data"
    }
   ],
   "source": [
    "# Load the .dat file\n",
    "data = pd.read_csv(\"mesh.dat\", delimiter=\" \")  # Adjust the delimiter based on file format\n",
    "\n",
    "# Plot the data\n",
    "plt.plot(data['X'], data['Y'], marker='o', linestyle=' ')\n",
    "plt.xlabel(\"X\", fontsize=14, fontweight='bold')\n",
    "plt.ylabel(\"Y\", fontsize=14, fontweight='bold')\n",
    "plt.title(\"Mesh.dat Visualization\", fontsize=14, fontweight='bold')\n",
    "plt.show()"
   ]
  },
  {
   "cell_type": "code",
   "execution_count": 9,
   "metadata": {},
   "outputs": [
    {
     "name": "stdout",
     "output_type": "stream",
     "text": [
      "           X         Y\n",
      "0   7.886064  6.359793\n",
      "1   2.321047  8.954139\n",
      "2   0.241770  4.484384\n",
      "3   8.585893  9.667951\n",
      "4   0.733972  4.184429\n",
      "..       ...       ...\n",
      "95  2.225854  5.189698\n",
      "96  3.088985  0.506305\n",
      "97  0.907754  5.776031\n",
      "98  5.203489  8.485519\n",
      "99  3.223847  5.037382\n",
      "\n",
      "[100 rows x 2 columns]\n"
     ]
    }
   ],
   "source": [
    "print(data)"
   ]
  },
  {
   "cell_type": "code",
   "execution_count": 3,
   "metadata": {},
   "outputs": [],
   "source": [
    "def get_cross_product(p1, p2, p3):\n",
    "\t\treturn ((p2[0] - p1[0])*(p3[1] - p1[1])) - ((p2[1] - p1[1])*(p3[0] - p1[0]))"
   ]
  },
  {
   "cell_type": "code",
   "execution_count": 4,
   "metadata": {},
   "outputs": [],
   "source": [
    "def get_slope(p1, p2):\n",
    "    if p1[0] == p2[0]:\n",
    "        return float('inf')\n",
    "    else:\n",
    "        return 1.0*(p1[1]-p2[1])/(p1[0]-p2[0])"
   ]
  },
  {
   "cell_type": "code",
   "execution_count": 5,
   "metadata": {},
   "outputs": [],
   "source": [
    "def compute_convex_hull(points):\n",
    "\t\thull = []\n",
    "\t\tpoints.sort(key=lambda x:[x[0],x[1]])\n",
    "\t\tstart = points.pop(0)\n",
    "\t\thull.append(start)\n",
    "\t\tpoints.sort(key=lambda p: (get_slope(p,start), -p[1],p[0]))\n",
    "\t\tfor pt in points:\n",
    "\t\t\thull.append(pt)\n",
    "\t\t\twhile len(hull) > 2 and get_cross_product(hull[-3],hull[-2],hull[-1]) < 0:\n",
    "\t\t\t\thull.pop(-2)\n",
    "\t\treturn hull"
   ]
  },
  {
   "cell_type": "code",
   "execution_count": null,
   "metadata": {},
   "outputs": [],
   "source": []
  }
 ],
 "metadata": {
  "kernelspec": {
   "display_name": "Python 3",
   "language": "python",
   "name": "python3"
  },
  "language_info": {
   "codemirror_mode": {
    "name": "ipython",
    "version": 3
   },
   "file_extension": ".py",
   "mimetype": "text/x-python",
   "name": "python",
   "nbconvert_exporter": "python",
   "pygments_lexer": "ipython3",
   "version": "3.8.10"
  }
 },
 "nbformat": 4,
 "nbformat_minor": 2
}
